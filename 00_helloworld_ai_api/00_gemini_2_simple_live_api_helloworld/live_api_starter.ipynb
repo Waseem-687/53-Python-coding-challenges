{
  "cells": [
    {
      "cell_type": "markdown",
      "metadata": {
        "id": "view-in-github",
        "colab_type": "text"
      },
      "source": [
        "<a href=\"https://colab.research.google.com/github/Waseem-687/53-Python-coding-challenges/blob/main/00_helloworld_ai_api/00_gemini_2_simple_live_api_helloworld/live_api_starter.ipynb\" target=\"_parent\"><img src=\"https://colab.research.google.com/assets/colab-badge.svg\" alt=\"Open In Colab\"/></a>"
      ]
    },
    {
      "cell_type": "markdown",
      "metadata": {
        "id": "Tce3stUlHN0L"
      },
      "source": [
        "##### Copyright 2024 Google LLC."
      ]
    },
    {
      "cell_type": "code",
      "execution_count": null,
      "metadata": {
        "cellView": "form",
        "id": "tuOe1ymfHZPu"
      },
      "outputs": [],
      "source": [
        "#@title Licensed under the Apache License, Version 2.0 (the \"License\");\n",
        "# you may not use this file except in compliance with the License.\n",
        "# You may obtain a copy of the License at\n",
        "#\n",
        "# https://www.apache.org/licenses/LICENSE-2.0\n",
        "#\n",
        "# Unless required by applicable law or agreed to in writing, software\n",
        "# distributed under the License is distributed on an \"AS IS\" BASIS,\n",
        "# WITHOUT WARRANTIES OR CONDITIONS OF ANY KIND, either express or implied.\n",
        "# See the License for the specific language governing permissions and\n",
        "# limitations under the License."
      ]
    },
    {
      "cell_type": "markdown",
      "metadata": {
        "id": "R5DkeFMP75as"
      },
      "source": [
        "# Live API - Quickstart"
      ]
    },
    {
      "cell_type": "markdown",
      "metadata": {
        "id": "tqktCVDm1yFo"
      },
      "source": [
        "<table align=\"left\">\n",
        "  <td>\n",
        "    <a target=\"_blank\" href=\"https://colab.research.google.com/github/panaversity/learn-agentic-ai/blob/main/00_helloworld_ai_api/00_gemini_2_simple_live_api_helloworld/live_api_starter.ipynb\"><img src=\"https://ai.google.dev/site-assets/images/docs/colab_logo_32px.png\" />Run in Google Colab</a>\n",
        "  </td>\n",
        "</table>"
      ]
    },
    {
      "cell_type": "markdown",
      "metadata": {
        "id": "iS0rHk3RBrtA"
      },
      "source": [
        "# Google Gen AI SDK (experimental)\n",
        "The new Google Gen AI SDK provides a unified interface to Gemini 2.0 through both the Gemini Developer API and the Gemini API on Vertex AI. With a few exceptions, code that runs on one platform will run on both. This means that you can prototype an application using the Developer API and then migrate the application to Vertex AI without rewriting your code.\n",
        "\n",
        "The Gen AI SDK also supports the Gemini 1.5 models.\n",
        "\n",
        "The new SDK is available in Python and Go, with Java and JavaScript coming soon.\n",
        "\n",
        "You can start using the SDK as shown below.\n",
        "\n",
        "Install the new SDK: pip install google-genai\n",
        "\n",
        "Then import the library, initialize a client, and generate content:"
      ]
    },
    {
      "cell_type": "markdown",
      "metadata": {
        "id": "Mfk6YY3G5kqp"
      },
      "source": [
        "## Setup"
      ]
    },
    {
      "cell_type": "markdown",
      "metadata": {
        "id": "d5027929de8f"
      },
      "source": [
        "### Install SDK\n",
        "\n",
        "The new **[Google Gen AI SDK](https://ai.google.dev/gemini-api/docs/sdks)** provides programmatic access to Gemini 2.0 (and previous models) using both the [Google AI for Developers](https://ai.google.dev/gemini-api/docs) and [Vertex AI](https://cloud.google.com/vertex-ai/generative-ai/docs/overview) APIs. With a few exceptions, code that runs on one platform will run on both.\n",
        "\n",
        "More details about this new SDK on the [documentation](https://ai.google.dev/gemini-api/docs/sdks) or in the [Getting started](../gemini-2/get_started.ipynb) notebook."
      ]
    },
    {
      "cell_type": "code",
      "execution_count": null,
      "metadata": {
        "id": "46zEFO2a9FFd"
      },
      "outputs": [],
      "source": [
        "!pip install -U -q google-genai"
      ]
    },
    {
      "cell_type": "markdown",
      "metadata": {
        "id": "CTIfnvCn9HvH"
      },
      "source": [
        "### Set up your API key\n",
        "\n",
        "To run the following cell, your API key must be stored in a Colab Secret named `GOOGLE_API_KEY`. If you don't already have an API key, or you're not sure how to create a Colab Secret, see [Authentication](../quickstarts/Authentication.ipynb) for an example."
      ]
    },
    {
      "cell_type": "code",
      "execution_count": 7,
      "metadata": {
        "id": "A1pkoyZb9Jm3"
      },
      "outputs": [],
      "source": [
        "from google.colab import userdata\n",
        "import os\n",
        "\n",
        "os.environ['GOOGLE_API_KEY'] = userdata.get('GOOGLE_API_KEY')"
      ]
    },
    {
      "cell_type": "markdown",
      "metadata": {
        "id": "GOOZsm7i9io6"
      },
      "source": [
        "### Import\n",
        "\n",
        "Import all the necessary modules."
      ]
    },
    {
      "cell_type": "code",
      "execution_count": 8,
      "metadata": {
        "id": "Yd1vs3cP8EmS"
      },
      "outputs": [],
      "source": [
        "from google import genai"
      ]
    },
    {
      "cell_type": "markdown",
      "metadata": {
        "id": "3Hx_Gw9i0Yuv"
      },
      "source": [
        "### Initialize SDK client\n",
        "\n",
        "The client will pick up your API key from the environment variable.\n",
        "To use the live API you need to set the client version to `v1alpha`."
      ]
    },
    {
      "cell_type": "code",
      "execution_count": 9,
      "metadata": {
        "id": "HghvVpbU0Uap"
      },
      "outputs": [],
      "source": [
        "from google import genai\n",
        "client = genai.Client()"
      ]
    },
    {
      "cell_type": "markdown",
      "metadata": {
        "id": "QOov6dpG99rY"
      },
      "source": [
        "### Select a model\n",
        "\n",
        "Multimodal Live API are a new capability introduced with the [Gemini 2.0](https://ai.google.dev/gemini-api/docs/models/gemini-v2) model. It won't work with previous generation models.\n"
      ]
    },
    {
      "cell_type": "code",
      "execution_count": 13,
      "metadata": {
        "id": "27Fikag0xSaB"
      },
      "outputs": [],
      "source": [
        "MODEL: str = \"gemini-2.0-flash-exp\""
      ]
    },
    {
      "cell_type": "markdown",
      "metadata": {
        "id": "jj7gDzfDOq4h"
      },
      "source": [
        "## Text to Text\n",
        "\n",
        "The simplest way to use the Live API is as a text-to-text chat interface, but it can do **a lot** more than this."
      ]
    },
    {
      "cell_type": "code",
      "execution_count": 14,
      "metadata": {
        "colab": {
          "base_uri": "https://localhost:8080/"
        },
        "id": "dDfslcyIOqgI",
        "outputId": "ee3364c6-fc8e-409f-9b17-4dddb12fcb72"
      },
      "outputs": [
        {
          "output_type": "stream",
          "name": "stdout",
          "text": [
            "Let's break down how Python works, from the code you write to the execution of the program. We'll cover it in stages:\n",
            "\n",
            "**1. Writing Python Code:**\n",
            "\n",
            "*   **Plain Text:** You write your Python code in a plain text file. These files typically have the `.py` extension (e.g., `my_script.py`).\n",
            "*   **Syntax:** Python has a clear and relatively easy-to-learn syntax. It uses indentation to define code blocks, which is different from languages that use curly braces or keywords like `begin`/`end`.\n",
            "*   **Keywords, Operators, Functions, Variables, and Data Structures:** Python provides you with a set of keywords (e.g., `if`, `for`, `while`, `def`), operators (`+`, `-`, `*`, `/`), built-in functions (e.g., `print()`, `len()`, `type()`), the ability to create variables, and various data structures (e.g., lists, tuples, dictionaries).\n",
            "\n",
            "**2. The Interpreter (The Heart of Python):**\n",
            "\n",
            "*   **Source Code to Bytecode:** Python is an interpreted language. This means your code isn't directly compiled into machine code (the instructions your CPU understands) beforehand. Instead, the Python interpreter:\n",
            "    *   Reads your `.py` file (the \"source code\").\n",
            "    *   **Parses** the code: It checks that the code is following Python's syntax rules.\n",
            "    *   **Translates** the code into an intermediate language called **bytecode**. Bytecode is a set of platform-independent instructions.\n",
            "    *   This bytecode is stored in `.pyc` files (or in memory, depending on the Python version and settings). This step helps improve performance by speeding up execution the next time you run the same script.\n",
            "*   **Virtual Machine Execution:** The Python interpreter includes a **virtual machine (PVM)** that:\n",
            "    *   **Reads and executes** the bytecode instructions, line by line or block by block.\n",
            "    *   **Interacts** with the operating system and underlying hardware.\n",
            "    *   **Manages memory:** It allocates space for variables and objects.\n",
            "    *   **Handles exceptions:** It gracefully manages errors that might occur during execution.\n",
            "    *   **Provides built-in functions and modules:** This allows you to easily perform tasks without having to write low-level code.\n",
            "\n",
            "**3. Key Concepts in Python's Operation:**\n",
            "\n",
            "*   **Dynamic Typing:** Python uses dynamic typing. This means that you don't need to declare a variable's data type (e.g., `int`, `string`) explicitly. The type is determined at runtime based on the value assigned to the variable.\n",
            "*   **Garbage Collection:** Python automatically manages memory by performing garbage collection. When an object is no longer needed, Python reclaims the memory it occupied, preventing memory leaks.\n",
            "*   **Object-Oriented:** Python is an object-oriented language. Everything in Python, including numbers, strings, lists, etc., is an object. This means they have properties (data) and methods (functions that can act on that data).\n",
            "*   **Standard Library:** Python comes with an extensive standard library with a huge amount of useful modules to perform tasks like working with files, network programming, data processing, GUI creation, and much more.\n",
            "\n",
            "**Simplified Flow:**\n",
            "\n",
            "1.  **You write the Python code (`.py` file).**\n",
            "2.  **The Python interpreter reads and parses your code.**\n",
            "3.  **The interpreter translates the code into bytecode.**\n",
            "4.  **The PVM within the interpreter executes the bytecode, step by step.**\n",
            "5.  **The program interacts with the OS and hardware, resulting in output or actions.**\n",
            "\n",
            "**Analogy: The Python Interpreter as a Translator**\n",
            "\n",
            "Think of it like this:\n",
            "\n",
            "1.  **You write your ideas in English (Python code).**\n",
            "2.  **A translator (the Python interpreter) reads your English text and translates it into an intermediate language (bytecode).**\n",
            "3.  **An interpreter (the virtual machine) reads and executes the bytecode step-by-step, understanding all of the actions to take and working with the local authorities (the operating system) to get the job done.**\n",
            "\n",
            "**Why Is It Useful That Python Is Interpreted?**\n",
            "\n",
            "*   **Portability:** Python bytecode is platform-independent, which means your code is likely to run on various operating systems (Windows, macOS, Linux) without modification.\n",
            "*   **Rapid Development:** The dynamic typing and interpreted nature of Python allow for faster prototyping and development, as you don't need to compile your code before each execution.\n",
            "*   **Easier Debugging:** Since you run each line of code one by one, it's easier to pinpoint errors during development.\n",
            "\n",
            "**In Summary:**\n",
            "\n",
            "Python works by having an interpreter that takes your code, translates it into bytecode, and then runs that bytecode using a virtual machine. It handles many of the low-level details for you, making it easier for you to write code and focus on your task. This process of interpretation gives Python portability, rapid development speed, and ease of debugging.\n",
            "\n"
          ]
        }
      ],
      "source": [
        "response = client.models.generate_content(\n",
        "    model=MODEL,\n",
        "     contents='How does python work?'\n",
        ")\n",
        "print(response.text)"
      ]
    }
  ],
  "metadata": {
    "colab": {
      "collapsed_sections": [
        "Tce3stUlHN0L"
      ],
      "provenance": [],
      "include_colab_link": true
    },
    "kernelspec": {
      "display_name": "Python 3",
      "name": "python3"
    }
  },
  "nbformat": 4,
  "nbformat_minor": 0
}